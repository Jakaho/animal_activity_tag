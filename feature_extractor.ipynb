{
 "cells": [
  {
   "cell_type": "markdown",
   "metadata": {},
   "source": [
    "# Possible features:\n",
    "### Raw accelerometer axes (X, Y, Z)\n",
    "\n",
    "Mean\n",
    "\n",
    "Variance\n",
    "\n",
    "Standard deviation\n",
    "\n",
    "Max\n",
    "\n",
    "Min\n",
    "\n",
    "Signal magnitude\n",
    "\n",
    "Average intensity\n",
    "\n",
    "Range\n",
    "\n",
    "Median\n",
    "\n",
    "Signal magnitude area\n",
    "\n",
    "\n",
    "### AC component (time)\n",
    "\n",
    "Mean\n",
    "\n",
    "Standard deviation\n",
    "\n",
    "Max\n",
    "\n",
    "Skewness?\n",
    "\n",
    "Kurtosis?\n",
    "\n",
    "\n",
    "\n",
    "### AC component (freq)\n",
    "\n",
    "Root mean square spectral density\n",
    "\n",
    "Spectral entropy\n",
    "\n",
    "Standard deviation\n",
    "\n",
    "Max\n",
    "\n",
    "Min"
   ]
  },
  {
   "cell_type": "code",
   "execution_count": null,
   "metadata": {},
   "outputs": [],
   "source": []
  }
 ],
 "metadata": {
  "language_info": {
   "name": "python"
  }
 },
 "nbformat": 4,
 "nbformat_minor": 2
}
