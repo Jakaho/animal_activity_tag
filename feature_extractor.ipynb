{
 "cells": [
  {
   "cell_type": "markdown",
   "metadata": {},
   "source": [
    "# Possible features:\n",
    "### Raw accelerometer axes (X, Y, Z)\n",
    "\n",
    "Mean\n",
    "\n",
    "Variance\n",
    "\n",
    "Standard deviation\n",
    "\n",
    "Max\n",
    "\n",
    "Min\n",
    "\n",
    "Signal magnitude\n",
    "\n",
    "Average intensity\n",
    "\n",
    "Range\n",
    "\n",
    "Median\n",
    "\n",
    "Signal magnitude area\n",
    "\n",
    "\n",
    "### AC component (time)\n",
    "\n",
    "Mean\n",
    "\n",
    "Standard deviation\n",
    "\n",
    "Max\n",
    "\n",
    "Skewness?\n",
    "\n",
    "Kurtosis?\n",
    "\n",
    "\n",
    "\n",
    "### AC component (freq) (calculate each band separately after IFFT)\n",
    "\n",
    "Root mean square spectral density\n",
    "\n",
    "Spectral entropy\n",
    "\n",
    "Standard deviation\n",
    "\n",
    "Max\n",
    "\n",
    "Min"
   ]
  },
  {
   "cell_type": "code",
   "execution_count": 1,
   "metadata": {},
   "outputs": [],
   "source": [
    "import numpy as np\n",
    "import dataprocessing\n",
    "\n",
    "filepath = 'datasets/pos_A.csv'\n",
    "windows_ac = dataprocessing.import_and_downsample(filepath, False) \n",
    "all_time_domain_signals = dataprocessing.process_window(windows_ac, None)"
   ]
  },
  {
   "cell_type": "code",
   "execution_count": null,
   "metadata": {},
   "outputs": [],
   "source": []
  }
 ],
 "metadata": {
  "kernelspec": {
   "display_name": "exjobb",
   "language": "python",
   "name": "python3"
  },
  "language_info": {
   "codemirror_mode": {
    "name": "ipython",
    "version": 3
   },
   "file_extension": ".py",
   "mimetype": "text/x-python",
   "name": "python",
   "nbconvert_exporter": "python",
   "pygments_lexer": "ipython3",
   "version": "3.10.13"
  }
 },
 "nbformat": 4,
 "nbformat_minor": 2
}
